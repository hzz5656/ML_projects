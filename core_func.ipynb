{
 "cells": [
  {
   "cell_type": "code",
   "execution_count": 0,
   "metadata": {
    "application/vnd.databricks.v1+cell": {
     "cellMetadata": {
      "byteLimit": 2048000,
      "rowLimit": 10000
     },
     "inputWidgets": {},
     "nuid": "8a3c6fc2-df7c-4e9d-83d7-b5a2f00da5ed",
     "showTitle": false,
     "title": ""
    }
   },
   "outputs": [],
   "source": [
    "##### Churn Rate Prediction Model #####"
   ]
  },
  {
   "cell_type": "code",
   "execution_count": 0,
   "metadata": {
    "application/vnd.databricks.v1+cell": {
     "cellMetadata": {
      "byteLimit": 2048000,
      "rowLimit": 10000
     },
     "inputWidgets": {},
     "nuid": "cbeb9f30-406d-4a78-ae09-7c4d56c370fe",
     "showTitle": false,
     "title": ""
    }
   },
   "outputs": [],
   "source": [
    "# Libraries Import\n",
    "from __future__ import division\n",
    "import pandas as pd\n",
    "import numpy as np\n",
    "import matplotlib.pyplot as plt\n",
    "import json\n",
    "from sklearn.preprocessing import StandardScaler\n",
    "from sklearn.model_selection import KFold\n",
    "from sklearn.model_selection import train_test_split\n",
    "from sklearn.svm import SVC\n",
    "from sklearn.ensemble import RandomForestClassifier as RF\n",
    "from sklearn.neighbors import KNeighborsClassifier as KNN\n",
    "from sklearn.linear_model import LogisticRegression as LR\n",
    "from sklearn.ensemble import GradientBoostingClassifier as GBC\n",
    "from sklearn.metrics import average_precision_score\n",
    "from sklearn.metrics import confusion_matrix\n",
    "from sklearn.metrics import precision_score\n",
    "from sklearn.metrics import recall_score\n",
    "from sklearn.metrics import roc_curve, roc_auc_score\n",
    "from scipy import interp\n",
    "import warnings\n",
    "from plotnine import *\n",
    "from sklearn.preprocessing import LabelEncoder"
   ]
  },
  {
   "cell_type": "code",
   "execution_count": 0,
   "metadata": {
    "application/vnd.databricks.v1+cell": {
     "cellMetadata": {
      "byteLimit": 2048000,
      "rowLimit": 10000
     },
     "inputWidgets": {},
     "nuid": "3eb0e810-8f06-4d39-a8f6-795a5237d451",
     "showTitle": false,
     "title": ""
    }
   },
   "outputs": [],
   "source": [
    "# Sampling data\n",
    "def random_sample(df, percentage):\n",
    "    # Calculate the number of rows to select\n",
    "    num_rows = int(len(df) * percentage)\n",
    "    \n",
    "    # Randomly select the rows\n",
    "    sample_df = df.sample(n=num_rows, random_state=42)  # Set a random seed for reproducibility\n",
    "    \n",
    "    # Reset the index of the new DataFrame\n",
    "    sample_df = sample_df.reset_index(drop=True)\n",
    "    \n",
    "    return sample_df"
   ]
  },
  {
   "cell_type": "code",
   "execution_count": 0,
   "metadata": {
    "application/vnd.databricks.v1+cell": {
     "cellMetadata": {
      "byteLimit": 2048000,
      "rowLimit": 10000
     },
     "inputWidgets": {},
     "nuid": "7187c875-de79-4b00-8204-fb50055c00c5",
     "showTitle": false,
     "title": ""
    }
   },
   "outputs": [],
   "source": [
    "\n",
    "def run_cv(X,y,clf_class,**kwargs):\n",
    "    #Construct a kfolds object\n",
    "    kf=KFold(n_splits=3,shuffle=True)\n",
    "    y_pred=y.copy()\n",
    "    #Iterate through folds\n",
    "    for train_index, test_index in kf.split(X,y):\n",
    "        X_train, X_test = X[train_index],X[test_index]\n",
    "        y_train= y[train_index]\n",
    "    \n",
    "        # Initialize a classifier with key word arguments\n",
    "        clf = clf_class(**kwargs)\n",
    "        clf.fit(X_train,y_train)\n",
    "        y_pred[test_index]=clf.predict(X_test)\n",
    "    return y_pred"
   ]
  },
  {
   "cell_type": "code",
   "execution_count": 0,
   "metadata": {
    "application/vnd.databricks.v1+cell": {
     "cellMetadata": {
      "byteLimit": 2048000,
      "rowLimit": 10000
     },
     "inputWidgets": {},
     "nuid": "6e0497af-abff-4187-8375-50dc8d6f5565",
     "showTitle": false,
     "title": ""
    }
   },
   "outputs": [],
   "source": [
    "# Obtain the accuracy\n",
    "\n",
    "def accuracy(y_true,y_pred):\n",
    "    # Numpy interpretes True and False as 1 and 0\n",
    "    return np.mean(y_true==y_pred) *100"
   ]
  },
  {
   "cell_type": "code",
   "execution_count": 0,
   "metadata": {
    "application/vnd.databricks.v1+cell": {
     "cellMetadata": {
      "byteLimit": 2048000,
      "rowLimit": 10000
     },
     "inputWidgets": {},
     "nuid": "a8eb641b-4133-4b32-81cb-e5c5e0983b3d",
     "showTitle": false,
     "title": ""
    }
   },
   "outputs": [],
   "source": [
    "# Produce Predictions\n",
    "\n",
    "def run_prob_cv(X,y,clf_class, roc=False, **kwargs):\n",
    "    kf=KFold(n_splits=3, shuffle=True)\n",
    "    y_prob=np.zeros((len(y),2))\n",
    "    for train_index, test_index in kf.split(X,y):\n",
    "        X_train, X_test = X[train_index],X[test_index]\n",
    "        y_train= y[train_index]\n",
    "    \n",
    "        # Initialize a classifier with key word arguments\n",
    "        clf = clf_class(**kwargs)\n",
    "        clf.fit(X_train,y_train)\n",
    "        y_prob[test_index]=clf.predict_proba(X_test)\n",
    "    \n",
    "    return y_prob"
   ]
  },
  {
   "cell_type": "code",
   "execution_count": 0,
   "metadata": {
    "application/vnd.databricks.v1+cell": {
     "cellMetadata": {
      "byteLimit": 2048000,
      "rowLimit": 10000
     },
     "inputWidgets": {},
     "nuid": "e498f94a-5a60-4458-bf76-2efe17a46179",
     "showTitle": false,
     "title": ""
    }
   },
   "outputs": [],
   "source": [
    "# Obtain Calibration\n",
    "\n",
    "    #NOTE: Calibration measurement for a set of predictions.\n",
    "    #When predicting events at a given probability, how far is #frequency of positive outcomes from that probability?\n",
    "    #NOTE: Lower scores are better\n",
    "    #prob: array_like, float\n",
    "    #    Probability estimates for a set of events\n",
    "    #outcome: array_like, bool\n",
    "    #    If event predicted occurred\n",
    "    #n_bins: int\n",
    "    #    Numbero of judgement categories to prefrom #calculation over.\n",
    "    #    Prediction are binned based on probability, since #\"descrete\"\n",
    "    #    probabilities aren't required.\n",
    "\n",
    "\n",
    "def calibration(prob,outcome,n_bins=10):\n",
    "\n",
    "    prob=np.array(prob)\n",
    "    outcome=np.array(outcome)\n",
    "\n",
    "    c=0.0\n",
    "    #Construct bins\n",
    "    judgement_bins=np.arange(n_bins+1) / n_bins\n",
    "    #Which bin is each prediction in?\n",
    "    bin_num = np.digitize(prob, judgement_bins)\n",
    "    for j_bin in np.unique(bin_num):\n",
    "        # Is event in bin\n",
    "        in_bin=bin_num == j_bin\n",
    "        # Predicted probability taken as average of preds in bin\n",
    "        predicted_prob = np.mean(prob[in_bin])\n",
    "        # How often did events in this bin actually happen?\n",
    "        true_bin_prob = np.mean(outcome[in_bin])\n",
    "        # Squared distance between predicted and true times num of obs\n",
    "        c += np.sum(in_bin) * ((predicted_prob - true_bin_prob) ** 2)\n",
    "    return c / len(prob) "
   ]
  },
  {
   "cell_type": "code",
   "execution_count": 0,
   "metadata": {
    "application/vnd.databricks.v1+cell": {
     "cellMetadata": {
      "byteLimit": 2048000,
      "rowLimit": 10000
     },
     "inputWidgets": {},
     "nuid": "3d019a15-4254-4a95-a890-655a938e94cd",
     "showTitle": false,
     "title": ""
    }
   },
   "outputs": [],
   "source": [
    "# Obtain Discrimination\n",
    "\n",
    "    #NOTE: Discrimination measurement for a set of predictions.\n",
    "    #For each judgement category, how far from the base #probability is the true frequency of that bin?\n",
    "    #NOTE: High scores are better\n",
    "    #prob: array_like, float\n",
    "    #    Probability estiamtes for a set of events\n",
    "    #outcome: array_like, bool\n",
    "    #    If event predicted occurred\n",
    "    #n_bins: int\n",
    "    #    Number of judgement categories to prefrom calculation #over.\n",
    "    #    Prediction are binned based on probability, since #\"descrete\"\n",
    "    #    probabilities aren't required.    \n",
    "     \n",
    "\n",
    "\n",
    "\n",
    "def discrimination(prob, outcome, n_bins=10):\n",
    "\n",
    "    prob = np.array(prob)\n",
    "    outcome = np.array(outcome)\n",
    "\n",
    "    d = 0.0\n",
    "    # Base frequency of outcomes\n",
    "    base_prob = np.mean(outcome)\n",
    "    # Construct bins\n",
    "    judgement_bins = np.arange(n_bins + 1) / n_bins\n",
    "    # Which bin is each prediction in?\n",
    "    bin_num = np.digitize(prob, judgement_bins)\n",
    "    for j_bin in np.unique(bin_num):\n",
    "        in_bin = bin_num == j_bin\n",
    "        true_bin_prob = np.mean(outcome[in_bin])\n",
    "        # Squared distance between true and base times num of obs\n",
    "        d += np.sum(in_bin) * ((true_bin_prob - base_prob) ** 2)\n",
    "    return d / len(prob)"
   ]
  },
  {
   "cell_type": "code",
   "execution_count": 0,
   "metadata": {
    "application/vnd.databricks.v1+cell": {
     "cellMetadata": {
      "byteLimit": 2048000,
      "rowLimit": 10000
     },
     "inputWidgets": {},
     "nuid": "d4915014-d92a-4ac1-be8a-3d28395f4e9e",
     "showTitle": false,
     "title": ""
    }
   },
   "outputs": [],
   "source": [
    "# Get All Three Error Measures\n",
    "\n",
    "def print_measurements(pred_prob):\n",
    "    churn_prob, is_churn = pred_prob[:, 1], y == 1\n",
    "    print (\" %-20s %.4f\" % (\"Calibration Error\", calibration(churn_prob, is_churn)))\n",
    "    print (\" %-20s %.4f\" % (\"Discrimination\", discrimination(churn_prob, is_churn)))\n",
    "    print (\"Note -- Lower calibration is better, higher discrimination is better\")\n",
    "\n"
   ]
  },
  {
   "cell_type": "code",
   "execution_count": 0,
   "metadata": {
    "application/vnd.databricks.v1+cell": {
     "cellMetadata": {
      "byteLimit": 2048000,
      "rowLimit": 10000
     },
     "inputWidgets": {},
     "nuid": "20b61eb3-40f7-47a6-8bb6-fa38ffcb4ed9",
     "showTitle": false,
     "title": ""
    }
   },
   "outputs": [],
   "source": [
    "# ROC graph & AUC\n",
    "\n",
    "def plot_roc(X, y, clf_class, **kwargs):\n",
    "    kf = KFold(n_splits=5, shuffle=True)\n",
    "    y_prob = np.zeros((len(y), 2))\n",
    "    mean_tpr = 0.0\n",
    "    mean_fpr = np.linspace(0, 1, 100)\n",
    "    \n",
    "    le = LabelEncoder()\n",
    "    y = le.fit_transform(y)\n",
    "    \n",
    "    for i, (train_index, test_index) in enumerate(kf.split(X, y)):\n",
    "        X_train, X_test = X[train_index], X[test_index]\n",
    "        y_train = y[train_index]\n",
    "        clf = clf_class(**kwargs)\n",
    "        clf.fit(X_train, y_train)\n",
    "\n",
    "        y_prob[test_index] = clf.predict_proba(X_test)\n",
    "\n",
    "        fpr, tpr, thresholds = roc_curve(y[test_index], y_prob[test_index, 1])\n",
    "\n",
    "        mean_tpr += interp(mean_fpr, fpr, tpr)\n",
    "\n",
    "        mean_tpr[0] = 0.0\n",
    "        roc_auc = roc_auc_score(y[test_index], y_prob[test_index, 1])\n",
    "\n",
    "        plt.plot(fpr, tpr, lw=1, label='ROC fold %d (area = %0.2f)' % (i, roc_auc))\n",
    "    \n",
    "    mean_tpr /= kf.get_n_splits()\n",
    "    mean_tpr[-1] = 1.0\n",
    "    mean_auc = roc_auc_score(y, y_prob[:, 1])\n",
    "    plt.plot(mean_fpr, mean_tpr, 'k--', label='Mean ROC (area = %0.2f)' % mean_auc, lw=2)\n",
    "\n",
    "    plt.plot([0, 1], [0, 1], '--', color=(0.6, 0.6, 0.6), label='Random')\n",
    "    plt.xlim([-0.05, 1.05])\n",
    "    plt.ylim([-0.05, 1.05])\n",
    "    plt.xlabel('False Positive Rate')\n",
    "    plt.ylabel('True Positive Rate')\n",
    "    plt.title('Receiver Operating Characteristic')\n",
    "    plt.legend(loc='lower right')\n",
    "    plt.show()\n"
   ]
  },
  {
   "cell_type": "code",
   "execution_count": 0,
   "metadata": {
    "application/vnd.databricks.v1+cell": {
     "cellMetadata": {
      "byteLimit": 2048000,
      "rowLimit": 10000
     },
     "inputWidgets": {},
     "nuid": "737d0d34-47c4-401c-b416-89b6b84af983",
     "showTitle": false,
     "title": ""
    }
   },
   "outputs": [],
   "source": [
    "##### BG-NBD Model #####"
   ]
  }
 ],
 "metadata": {
  "application/vnd.databricks.v1+notebook": {
   "dashboards": [],
   "language": "python",
   "notebookMetadata": {
    "pythonIndentUnit": 4
   },
   "notebookName": "core_func",
   "widgets": {}
  }
 },
 "nbformat": 4,
 "nbformat_minor": 0
}
