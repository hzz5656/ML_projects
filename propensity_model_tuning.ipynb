{
 "cells": [
  {
   "cell_type": "code",
   "execution_count": 0,
   "metadata": {
    "application/vnd.databricks.v1+cell": {
     "cellMetadata": {
      "byteLimit": 2048000,
      "rowLimit": 10000
     },
     "inputWidgets": {},
     "nuid": "c95d6e06-b74f-49ce-8ce5-3b572cae664b",
     "showTitle": false,
     "title": ""
    }
   },
   "outputs": [
    {
     "output_type": "display_data",
     "data": {
      "application/vnd.databricks.v1+bamboolib_hint": "{\"pd.DataFrames\": [], \"version\": \"0.0.1\"}",
      "text/plain": []
     },
     "metadata": {},
     "output_type": "display_data"
    }
   ],
   "source": [
    "%run \"/Users/zhouzi.hu@paulaschoice.com/core_func\""
   ]
  },
  {
   "cell_type": "code",
   "execution_count": 0,
   "metadata": {
    "application/vnd.databricks.v1+cell": {
     "cellMetadata": {
      "byteLimit": 2048000,
      "rowLimit": 10000
     },
     "inputWidgets": {},
     "nuid": "bcd19223-68e4-4a57-9c6f-7237b621584e",
     "showTitle": false,
     "title": ""
    }
   },
   "outputs": [],
   "source": [
    "from pyspark.sql import SparkSession\n",
    "from sklearn.metrics import confusion_matrix, f1_score"
   ]
  },
  {
   "cell_type": "code",
   "execution_count": 0,
   "metadata": {
    "application/vnd.databricks.v1+cell": {
     "cellMetadata": {
      "byteLimit": 2048000,
      "rowLimit": 10000
     },
     "inputWidgets": {},
     "nuid": "f1d3ee3a-75a7-4f43-aa57-3399bf7e97ff",
     "showTitle": false,
     "title": ""
    }
   },
   "outputs": [
    {
     "output_type": "display_data",
     "data": {
      "text/html": [
       "<div>\n",
       "<style scoped>\n",
       "    .dataframe tbody tr th:only-of-type {\n",
       "        vertical-align: middle;\n",
       "    }\n",
       "\n",
       "    .dataframe tbody tr th {\n",
       "        vertical-align: top;\n",
       "    }\n",
       "\n",
       "    .dataframe thead th {\n",
       "        text-align: right;\n",
       "    }\n",
       "</style>\n",
       "<table border=\"1\" class=\"dataframe\">\n",
       "  <thead>\n",
       "    <tr style=\"text-align: right;\">\n",
       "      <th></th>\n",
       "      <th>CompanyId</th>\n",
       "      <th>DistSKUcnt</th>\n",
       "      <th>Ordercnt</th>\n",
       "      <th>average_basket_size</th>\n",
       "      <th>cohort</th>\n",
       "      <th>AOV</th>\n",
       "      <th>DistCampaigncnt(past2yrs)</th>\n",
       "      <th>MonthlyAvgRev(past2yrs)</th>\n",
       "      <th>Have_subscription_history?</th>\n",
       "      <th>Churn? (2 months)</th>\n",
       "    </tr>\n",
       "  </thead>\n",
       "  <tbody>\n",
       "    <tr>\n",
       "      <th>0</th>\n",
       "      <td>1000919</td>\n",
       "      <td>65</td>\n",
       "      <td>128</td>\n",
       "      <td>2.59</td>\n",
       "      <td>2012</td>\n",
       "      <td>58.7588</td>\n",
       "      <td>15</td>\n",
       "      <td>72.2011</td>\n",
       "      <td>1</td>\n",
       "      <td>0</td>\n",
       "    </tr>\n",
       "    <tr>\n",
       "      <th>1</th>\n",
       "      <td>1010611</td>\n",
       "      <td>31</td>\n",
       "      <td>52</td>\n",
       "      <td>5.13</td>\n",
       "      <td>2013</td>\n",
       "      <td>104.703</td>\n",
       "      <td>3</td>\n",
       "      <td>145.40</td>\n",
       "      <td>0</td>\n",
       "      <td>0</td>\n",
       "    </tr>\n",
       "    <tr>\n",
       "      <th>2</th>\n",
       "      <td>1010667</td>\n",
       "      <td>94</td>\n",
       "      <td>213</td>\n",
       "      <td>3.34</td>\n",
       "      <td>2012</td>\n",
       "      <td>92.18</td>\n",
       "      <td>14</td>\n",
       "      <td>151.7785</td>\n",
       "      <td>1</td>\n",
       "      <td>0</td>\n",
       "    </tr>\n",
       "    <tr>\n",
       "      <th>3</th>\n",
       "      <td>1010818</td>\n",
       "      <td>21</td>\n",
       "      <td>59</td>\n",
       "      <td>2.12</td>\n",
       "      <td>2013</td>\n",
       "      <td>41.763</td>\n",
       "      <td>1</td>\n",
       "      <td>39.741</td>\n",
       "      <td>1</td>\n",
       "      <td>0</td>\n",
       "    </tr>\n",
       "    <tr>\n",
       "      <th>4</th>\n",
       "      <td>1000003</td>\n",
       "      <td>24</td>\n",
       "      <td>19</td>\n",
       "      <td>3.37</td>\n",
       "      <td>2013</td>\n",
       "      <td>58.6578</td>\n",
       "      <td>1</td>\n",
       "      <td>96.425</td>\n",
       "      <td>0</td>\n",
       "      <td>0</td>\n",
       "    </tr>\n",
       "  </tbody>\n",
       "</table>\n",
       "</div>"
      ]
     },
     "metadata": {
      "application/vnd.databricks.v1+output": {
       "addedWidgets": {},
       "arguments": {},
       "data": "<div>\n<style scoped>\n    .dataframe tbody tr th:only-of-type {\n        vertical-align: middle;\n    }\n\n    .dataframe tbody tr th {\n        vertical-align: top;\n    }\n\n    .dataframe thead th {\n        text-align: right;\n    }\n</style>\n<table border=\"1\" class=\"dataframe\">\n  <thead>\n    <tr style=\"text-align: right;\">\n      <th></th>\n      <th>CompanyId</th>\n      <th>DistSKUcnt</th>\n      <th>Ordercnt</th>\n      <th>average_basket_size</th>\n      <th>cohort</th>\n      <th>AOV</th>\n      <th>DistCampaigncnt(past2yrs)</th>\n      <th>MonthlyAvgRev(past2yrs)</th>\n      <th>Have_subscription_history?</th>\n      <th>Churn? (2 months)</th>\n    </tr>\n  </thead>\n  <tbody>\n    <tr>\n      <th>0</th>\n      <td>1000919</td>\n      <td>65</td>\n      <td>128</td>\n      <td>2.59</td>\n      <td>2012</td>\n      <td>58.7588</td>\n      <td>15</td>\n      <td>72.2011</td>\n      <td>1</td>\n      <td>0</td>\n    </tr>\n    <tr>\n      <th>1</th>\n      <td>1010611</td>\n      <td>31</td>\n      <td>52</td>\n      <td>5.13</td>\n      <td>2013</td>\n      <td>104.703</td>\n      <td>3</td>\n      <td>145.40</td>\n      <td>0</td>\n      <td>0</td>\n    </tr>\n    <tr>\n      <th>2</th>\n      <td>1010667</td>\n      <td>94</td>\n      <td>213</td>\n      <td>3.34</td>\n      <td>2012</td>\n      <td>92.18</td>\n      <td>14</td>\n      <td>151.7785</td>\n      <td>1</td>\n      <td>0</td>\n    </tr>\n    <tr>\n      <th>3</th>\n      <td>1010818</td>\n      <td>21</td>\n      <td>59</td>\n      <td>2.12</td>\n      <td>2013</td>\n      <td>41.763</td>\n      <td>1</td>\n      <td>39.741</td>\n      <td>1</td>\n      <td>0</td>\n    </tr>\n    <tr>\n      <th>4</th>\n      <td>1000003</td>\n      <td>24</td>\n      <td>19</td>\n      <td>3.37</td>\n      <td>2013</td>\n      <td>58.6578</td>\n      <td>1</td>\n      <td>96.425</td>\n      <td>0</td>\n      <td>0</td>\n    </tr>\n  </tbody>\n</table>\n</div>",
       "datasetInfos": [],
       "metadata": {},
       "removedWidgets": [],
       "textData": null,
       "type": "htmlSandbox"
      }
     },
     "output_type": "display_data"
    }
   ],
   "source": [
    "# Preprocessing \n",
    "spark=SparkSession.builder.getOrCreate()\n",
    "raw=spark.read.csv('/mnt/datalake/raw/dtc/input data for ml projects/Imported Raw Input/dda-1414 raw input for new ml.csv',header=True)\n",
    "raw=raw.toPandas()\n",
    "dropna_df=raw.dropna(axis=0)\n",
    "dropna_df.head(5)"
   ]
  },
  {
   "cell_type": "code",
   "execution_count": 0,
   "metadata": {
    "application/vnd.databricks.v1+cell": {
     "cellMetadata": {
      "byteLimit": 2048000,
      "rowLimit": 10000
     },
     "inputWidgets": {},
     "nuid": "31504fa9-b9ac-4c2f-85c8-b89365906752",
     "showTitle": false,
     "title": ""
    }
   },
   "outputs": [
    {
     "output_type": "stream",
     "name": "stdout",
     "output_type": "stream",
     "text": [
      "Total rows: 459161\n"
     ]
    }
   ],
   "source": [
    "# count total input data\n",
    "total_rows = len(dropna_df)\n",
    "print(\"Total rows:\", total_rows)"
   ]
  },
  {
   "cell_type": "code",
   "execution_count": 0,
   "metadata": {
    "application/vnd.databricks.v1+cell": {
     "cellMetadata": {
      "byteLimit": 2048000,
      "rowLimit": 10000
     },
     "inputWidgets": {},
     "nuid": "7883e191-86ed-474d-9405-2416189de6aa",
     "showTitle": false,
     "title": ""
    }
   },
   "outputs": [
    {
     "output_type": "display_data",
     "data": {
      "text/html": [
       "<div>\n",
       "<style scoped>\n",
       "    .dataframe tbody tr th:only-of-type {\n",
       "        vertical-align: middle;\n",
       "    }\n",
       "\n",
       "    .dataframe tbody tr th {\n",
       "        vertical-align: top;\n",
       "    }\n",
       "\n",
       "    .dataframe thead th {\n",
       "        text-align: right;\n",
       "    }\n",
       "</style>\n",
       "<table border=\"1\" class=\"dataframe\">\n",
       "  <thead>\n",
       "    <tr style=\"text-align: right;\">\n",
       "      <th></th>\n",
       "      <th>CompanyId</th>\n",
       "      <th>DistSKUcnt</th>\n",
       "      <th>Ordercnt</th>\n",
       "      <th>average_basket_size</th>\n",
       "      <th>cohort</th>\n",
       "      <th>AOV</th>\n",
       "      <th>DistCampaigncnt(past2yrs)</th>\n",
       "      <th>MonthlyAvgRev(past2yrs)</th>\n",
       "      <th>Have_subscription_history?</th>\n",
       "      <th>Churn? (2 months)</th>\n",
       "    </tr>\n",
       "  </thead>\n",
       "  <tbody>\n",
       "    <tr>\n",
       "      <th>0</th>\n",
       "      <td>3515796</td>\n",
       "      <td>10</td>\n",
       "      <td>2</td>\n",
       "      <td>5.00</td>\n",
       "      <td>2023</td>\n",
       "      <td>149.575</td>\n",
       "      <td>0</td>\n",
       "      <td>299.15</td>\n",
       "      <td>0</td>\n",
       "      <td>0</td>\n",
       "    </tr>\n",
       "    <tr>\n",
       "      <th>1</th>\n",
       "      <td>3494689</td>\n",
       "      <td>3</td>\n",
       "      <td>1</td>\n",
       "      <td>3.00</td>\n",
       "      <td>2022</td>\n",
       "      <td>34.85</td>\n",
       "      <td>0</td>\n",
       "      <td>34.85</td>\n",
       "      <td>0</td>\n",
       "      <td>0</td>\n",
       "    </tr>\n",
       "    <tr>\n",
       "      <th>2</th>\n",
       "      <td>3408788</td>\n",
       "      <td>1</td>\n",
       "      <td>1</td>\n",
       "      <td>1.00</td>\n",
       "      <td>2022</td>\n",
       "      <td>12.00</td>\n",
       "      <td>0</td>\n",
       "      <td>12.00</td>\n",
       "      <td>0</td>\n",
       "      <td>0</td>\n",
       "    </tr>\n",
       "    <tr>\n",
       "      <th>3</th>\n",
       "      <td>3050667</td>\n",
       "      <td>2</td>\n",
       "      <td>2</td>\n",
       "      <td>1.00</td>\n",
       "      <td>2021</td>\n",
       "      <td>20.55</td>\n",
       "      <td>2</td>\n",
       "      <td>20.55</td>\n",
       "      <td>0</td>\n",
       "      <td>1</td>\n",
       "    </tr>\n",
       "    <tr>\n",
       "      <th>4</th>\n",
       "      <td>3494057</td>\n",
       "      <td>1</td>\n",
       "      <td>1</td>\n",
       "      <td>1.00</td>\n",
       "      <td>2022</td>\n",
       "      <td>10.40</td>\n",
       "      <td>0</td>\n",
       "      <td>10.40</td>\n",
       "      <td>0</td>\n",
       "      <td>0</td>\n",
       "    </tr>\n",
       "  </tbody>\n",
       "</table>\n",
       "</div>"
      ]
     },
     "metadata": {
      "application/vnd.databricks.v1+output": {
       "addedWidgets": {},
       "arguments": {},
       "data": "<div>\n<style scoped>\n    .dataframe tbody tr th:only-of-type {\n        vertical-align: middle;\n    }\n\n    .dataframe tbody tr th {\n        vertical-align: top;\n    }\n\n    .dataframe thead th {\n        text-align: right;\n    }\n</style>\n<table border=\"1\" class=\"dataframe\">\n  <thead>\n    <tr style=\"text-align: right;\">\n      <th></th>\n      <th>CompanyId</th>\n      <th>DistSKUcnt</th>\n      <th>Ordercnt</th>\n      <th>average_basket_size</th>\n      <th>cohort</th>\n      <th>AOV</th>\n      <th>DistCampaigncnt(past2yrs)</th>\n      <th>MonthlyAvgRev(past2yrs)</th>\n      <th>Have_subscription_history?</th>\n      <th>Churn? (2 months)</th>\n    </tr>\n  </thead>\n  <tbody>\n    <tr>\n      <th>0</th>\n      <td>3515796</td>\n      <td>10</td>\n      <td>2</td>\n      <td>5.00</td>\n      <td>2023</td>\n      <td>149.575</td>\n      <td>0</td>\n      <td>299.15</td>\n      <td>0</td>\n      <td>0</td>\n    </tr>\n    <tr>\n      <th>1</th>\n      <td>3494689</td>\n      <td>3</td>\n      <td>1</td>\n      <td>3.00</td>\n      <td>2022</td>\n      <td>34.85</td>\n      <td>0</td>\n      <td>34.85</td>\n      <td>0</td>\n      <td>0</td>\n    </tr>\n    <tr>\n      <th>2</th>\n      <td>3408788</td>\n      <td>1</td>\n      <td>1</td>\n      <td>1.00</td>\n      <td>2022</td>\n      <td>12.00</td>\n      <td>0</td>\n      <td>12.00</td>\n      <td>0</td>\n      <td>0</td>\n    </tr>\n    <tr>\n      <th>3</th>\n      <td>3050667</td>\n      <td>2</td>\n      <td>2</td>\n      <td>1.00</td>\n      <td>2021</td>\n      <td>20.55</td>\n      <td>2</td>\n      <td>20.55</td>\n      <td>0</td>\n      <td>1</td>\n    </tr>\n    <tr>\n      <th>4</th>\n      <td>3494057</td>\n      <td>1</td>\n      <td>1</td>\n      <td>1.00</td>\n      <td>2022</td>\n      <td>10.40</td>\n      <td>0</td>\n      <td>10.40</td>\n      <td>0</td>\n      <td>0</td>\n    </tr>\n  </tbody>\n</table>\n</div>",
       "datasetInfos": [],
       "metadata": {},
       "removedWidgets": [],
       "textData": null,
       "type": "htmlSandbox"
      }
     },
     "output_type": "display_data"
    }
   ],
   "source": [
    "# sampling\n",
    "percentage = 0.1\n",
    "sample_df= random_sample(dropna_df,percentage)\n",
    "sample_df.head(5)"
   ]
  },
  {
   "cell_type": "code",
   "execution_count": 0,
   "metadata": {
    "application/vnd.databricks.v1+cell": {
     "cellMetadata": {
      "byteLimit": 2048000,
      "rowLimit": 10000
     },
     "inputWidgets": {},
     "nuid": "c067cf68-e769-4ee6-98d6-05e9850f5103",
     "showTitle": false,
     "title": ""
    }
   },
   "outputs": [
    {
     "output_type": "stream",
     "name": "stdout",
     "output_type": "stream",
     "text": [
      "['CompanyId', 'DistSKUcnt', 'Ordercnt', 'average_basket_size', 'cohort', 'AOV', 'DistCampaigncnt(past2yrs)', 'MonthlyAvgRev(past2yrs)', 'Have_subscription_history?', 'Churn? (2 months)']\n"
     ]
    }
   ],
   "source": [
    "# Obtain a list of the column headers\n",
    "col_names = sample_df.columns.tolist()\n",
    "# Check if feature columns have been applied correctly\n",
    "print(col_names)"
   ]
  },
  {
   "cell_type": "code",
   "execution_count": 0,
   "metadata": {
    "application/vnd.databricks.v1+cell": {
     "cellMetadata": {
      "byteLimit": 2048000,
      "rowLimit": 10000
     },
     "inputWidgets": {},
     "nuid": "fad220a9-c41b-4901-b623-af55d2573668",
     "showTitle": false,
     "title": ""
    }
   },
   "outputs": [],
   "source": [
    "# Isolate target data\n",
    "churn_result=sample_df['Churn? (2 months)']\n",
    "# Get a Boolean Label of the Churn Result\n",
    "y=np.asarray(churn_result)\n",
    "# Remove columns that are not required\n",
    "to_drop=['CompanyId','Churn? (2 months)']\n",
    "churn_feat_space=sample_df.drop(to_drop,axis=1)\n",
    "# Pull out features for future use\n",
    "features=churn_feat_space.columns\n",
    "# Getting Feature List for training in the future\n",
    "X=churn_feat_space.values.astype(np.float64)"
   ]
  },
  {
   "cell_type": "code",
   "execution_count": 0,
   "metadata": {
    "application/vnd.databricks.v1+cell": {
     "cellMetadata": {
      "byteLimit": 2048000,
      "rowLimit": 10000
     },
     "inputWidgets": {},
     "nuid": "2f262cc9-b8d7-4dc7-bb9f-5a9e87307b32",
     "showTitle": false,
     "title": ""
    }
   },
   "outputs": [
    {
     "output_type": "stream",
     "name": "stdout",
     "output_type": "stream",
     "text": [
      "Feature space holds 45916 observations and 8 features\nUnique target labels: ['0' '1']\n"
     ]
    }
   ],
   "source": [
    "# Standardize features by removing the mean and scaling to unit variance\n",
    "scaler=StandardScaler()\n",
    "X=scaler.fit_transform(X)\n",
    "print(\"Feature space holds %d observations and %d features\" % X.shape)\n",
    "print(\"Unique target labels:\", np.unique(y))\n",
    "#### End of Preprocessing of Data Points"
   ]
  },
  {
   "cell_type": "code",
   "execution_count": 0,
   "metadata": {
    "application/vnd.databricks.v1+cell": {
     "cellMetadata": {
      "byteLimit": 2048000,
      "rowLimit": 10000
     },
     "inputWidgets": {},
     "nuid": "fefebf5a-8e53-4aac-b64e-99834824192b",
     "showTitle": false,
     "title": ""
    }
   },
   "outputs": [
    {
     "output_type": "stream",
     "name": "stdout",
     "output_type": "stream",
     "text": [
      "\nTesting Models (Accuracy):\nSupport vector machines:\n"
     ]
    },
    {
     "output_type": "display_data",
     "data": {
      "text/html": [
       "<style scoped>\n",
       "  .ansiout {\n",
       "    display: block;\n",
       "    unicode-bidi: embed;\n",
       "    white-space: pre-wrap;\n",
       "    word-wrap: break-word;\n",
       "    word-break: break-all;\n",
       "    font-family: \"Source Code Pro\", \"Menlo\", monospace;;\n",
       "    font-size: 13px;\n",
       "    color: #555;\n",
       "    margin-left: 4px;\n",
       "    line-height: 19px;\n",
       "  }\n",
       "</style>"
      ]
     },
     "metadata": {
      "application/vnd.databricks.v1+output": {
       "arguments": {},
       "data": "",
       "errorSummary": "Cancelled",
       "errorTraceType": "html",
       "metadata": {},
       "type": "ipynbError"
      }
     },
     "output_type": "display_data"
    }
   ],
   "source": [
    "# Start Testing Models\n",
    "print(\"\\nTesting Models (Accuracy):\")\n",
    "print(\"Support vector machines:\")\n",
    "print(\"%.3f\" % accuracy(y,run_cv(X,y,SVC)))\n",
    "print(\"Random forest:\")\n",
    "print(\"%.3f\" % accuracy(y,run_cv(X,y,RF)))\n",
    "print(\"K-nearest-neighbors:\")\n",
    "print(\"%.3f\" % accuracy(y,run_cv(X,y,KNN)))\n",
    "print(\"Gradient Boosting Classifier:\")\n",
    "print(\"%.3f\" % accuracy(y,run_cv(X,y,GBC)))"
   ]
  },
  {
   "cell_type": "code",
   "execution_count": 0,
   "metadata": {
    "application/vnd.databricks.v1+cell": {
     "cellMetadata": {
      "byteLimit": 2048000,
      "rowLimit": 10000
     },
     "inputWidgets": {},
     "nuid": "a97f3c67-d007-4233-a24b-23ccf35d81e4",
     "showTitle": false,
     "title": ""
    }
   },
   "outputs": [
    {
     "output_type": "display_data",
     "data": {
      "text/html": [
       "<style scoped>\n",
       "  .ansiout {\n",
       "    display: block;\n",
       "    unicode-bidi: embed;\n",
       "    white-space: pre-wrap;\n",
       "    word-wrap: break-word;\n",
       "    word-break: break-all;\n",
       "    font-family: \"Source Code Pro\", \"Menlo\", monospace;;\n",
       "    font-size: 13px;\n",
       "    color: #555;\n",
       "    margin-left: 4px;\n",
       "    line-height: 19px;\n",
       "  }\n",
       "</style>"
      ]
     },
     "metadata": {
      "application/vnd.databricks.v1+output": {
       "arguments": {},
       "data": "",
       "errorSummary": "Cancelled",
       "errorTraceType": "html",
       "metadata": {},
       "type": "ipynbError"
      }
     },
     "output_type": "display_data"
    }
   ],
   "source": [
    "# confusion matrix & f1-score\n",
    "\n",
    "class_names = np.unique(y)\n",
    "\n",
    "models = [\n",
    "    (\"Support Vector Machines\", SVC),\n",
    "    (\"Random Forest\", RF),\n",
    "    (\"K-Nearest-Neighbors\", KNN),\n",
    "    (\"Gradient Boosting Classifier\", GBC)\n",
    "]\n",
    "\n",
    "results = []\n",
    "\n",
    "for model_name, model in models:\n",
    "    # Run cross-validation and get predicted labels\n",
    "    predicted_labels = run_cv(X, y, model)\n",
    "    \n",
    "    # Calculate confusion matrix\n",
    "    cm = confusion_matrix(y, predicted_labels)\n",
    "    \n",
    "    # Calculate F1 score\n",
    "    f1 = f1_score(y, predicted_labels, average='weighted')\n",
    "    \n",
    "    # Append classifier, confusion matrix, and F1 score to results list\n",
    "    results.append((model_name, cm, f1))\n",
    "\n",
    "# Display Confusion Matrix Graphic and F1 Score\n",
    "for model_name, cm, f1 in results:\n",
    "    # Plot confusion matrix as heatmap\n",
    "    plt.figure(figsize=(8, 6))\n",
    "    plt.imshow(cm, interpolation='nearest', cmap=plt.cm.Blues)\n",
    "    plt.title('Confusion Matrix: ' + model_name)\n",
    "    plt.colorbar()\n",
    "    plt.xlabel('Predicted label')\n",
    "    plt.ylabel('True label')\n",
    "    plt.xticks(np.arange(len(class_names)), class_names, rotation=45)\n",
    "    plt.yticks(np.arange(len(class_names)), class_names)\n",
    "    plt.show()\n",
    "\n",
    "    # Print F1 score\n",
    "    print(f\"F1 Score - {model_name}: {f1}\")\n",
    "    print(f\"Confusion Matrix - {model_name}:\\n{cm}\")"
   ]
  },
  {
   "cell_type": "code",
   "execution_count": 0,
   "metadata": {
    "application/vnd.databricks.v1+cell": {
     "cellMetadata": {
      "byteLimit": 2048000,
      "rowLimit": 10000
     },
     "inputWidgets": {},
     "nuid": "362d8ef5-77b6-4f94-8f12-94f4560053d3",
     "showTitle": false,
     "title": ""
    }
   },
   "outputs": [
    {
     "output_type": "stream",
     "name": "stdout",
     "output_type": "stream",
     "text": [
      "    pred_prob  count  true_prob\n0    0.256299   3997   0.284964\n1    0.260639   3743   0.281592\n2    0.252211   3430   0.295335\n3    0.233069   1155   0.195671\n4    0.346056    897   0.321070\n5    0.336865    886   0.366817\n6    0.337952    823   0.348724\n7    0.250790    713   0.186536\n8    0.243769    648   0.291667\n9    0.248905    633   0.347551\n10   0.162661    629   0.143084\n11   0.081885    585   0.000000\n12   0.083208    537   0.000000\n13   0.124140    533   0.031895\n14   0.242834    522   0.227969\n15   0.211767    485   0.241237\n16   0.081734    479   0.000000\n17   0.182104    460   0.158696\n18   0.206724    444   0.146396\n19   0.259050    442   0.280543\n"
     ]
    }
   ],
   "source": [
    "warnings.filterwarnings('ignore')\n",
    "# Use 10 estimators so predictions are all multiples of 0.1\n",
    "pred_prob = run_prob_cv(X, y, GBC, n_estimators=10)\n",
    "pred_churn = pred_prob[:,1]\n",
    "is_churn = y == '1'\n",
    "# Number of times a predicted probability is assigned to an observation\n",
    "counts = pd.value_counts(pred_churn)\n",
    "# calculate True probabilities\n",
    "true_prob = {}\n",
    "for prob in counts.index:\n",
    "    true_prob[prob] = np.mean(is_churn[pred_churn == prob])\n",
    "true_prob = pd.Series(true_prob)\n",
    "# Join Dataframes\n",
    "counts = pd.concat([counts,true_prob], axis=1).reset_index()\n",
    "counts.columns = ['pred_prob','count','true_prob']\n",
    "print(counts.head(20))\n"
   ]
  },
  {
   "cell_type": "code",
   "execution_count": 0,
   "metadata": {
    "application/vnd.databricks.v1+cell": {
     "cellMetadata": {
      "byteLimit": 2048000,
      "rowLimit": 10000
     },
     "inputWidgets": {},
     "nuid": "2720308a-ab08-4343-b20c-a3cd1a1dbb30",
     "showTitle": false,
     "title": ""
    }
   },
   "outputs": [
    {
     "output_type": "display_data",
     "data": {
      "text/html": [
       "<style scoped>\n",
       "  .ansiout {\n",
       "    display: block;\n",
       "    unicode-bidi: embed;\n",
       "    white-space: pre-wrap;\n",
       "    word-wrap: break-word;\n",
       "    word-break: break-all;\n",
       "    font-family: \"Source Code Pro\", \"Menlo\", monospace;;\n",
       "    font-size: 13px;\n",
       "    color: #555;\n",
       "    margin-left: 4px;\n",
       "    line-height: 19px;\n",
       "  }\n",
       "</style>"
      ]
     },
     "metadata": {
      "application/vnd.databricks.v1+output": {
       "arguments": {},
       "data": "",
       "errorSummary": "Cancelled",
       "errorTraceType": "html",
       "metadata": {},
       "type": "ipynbError"
      }
     },
     "output_type": "display_data"
    }
   ],
   "source": [
    "# Get Results\n",
    "print (\"Support vector machines:\")\n",
    "print_measurements(run_prob_cv(X, y, SVC, probability=True))\n",
    "print (\"Random forests:\")\n",
    "print_measurements(run_prob_cv(X, y, RF, n_estimators=18))\n",
    "print (\"K-nearest-neighbors:\")\n",
    "print_measurements(run_prob_cv(X, y, KNN))\n",
    "print (\"Gradient Boosting Classifier:\")\n",
    "print_measurements(run_prob_cv(X, y, GBC))"
   ]
  },
  {
   "cell_type": "code",
   "execution_count": 0,
   "metadata": {
    "application/vnd.databricks.v1+cell": {
     "cellMetadata": {
      "byteLimit": 2048000,
      "rowLimit": 10000
     },
     "inputWidgets": {},
     "nuid": "91e14734-36a1-47c7-8694-c4009ed9dfa5",
     "showTitle": false,
     "title": ""
    }
   },
   "outputs": [
    {
     "output_type": "stream",
     "name": "stdout",
     "output_type": "stream",
     "text": [
      "Feature Ranking:\n1. DistSKUcnt (0.391555)\n2. Ordercnt (0.251974)\n3. average_basket_size (0.199821)\n4. cohort (0.101422)\n5. AOV (0.025454)\n6. DistCampaigncnt(past2yrs) (0.017930)\n7. MonthlyAvgRev(past2yrs) (0.009098)\n8. Have_subscription_history? (0.002746)\n"
     ]
    },
    {
     "output_type": "display_data",
     "data": {
      "image/png": "[encoded data removed]"
     },
     "metadata": {
      "application/vnd.databricks.v1+output": {
       "addedWidgets": {},
       "arguments": {},
       "data": "data:image/png;base64,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\n",
       "datasetInfos": [],
       "metadata": {},
       "removedWidgets": [],
       "type": "image"
      }
     },
     "output_type": "display_data"
    }
   ],
   "source": [
    "# Feature Importances ranking\n",
    "train_index, test_index = train_test_split(sample_df.index)\n",
    "GBC_M = GBC()\n",
    "GBC_M_fit=GBC_M.fit(X[train_index], y[train_index])\n",
    "GBC_predictions=GBC_M_fit.predict(X[test_index])\n",
    "importances = GBC_M.feature_importances_[:8]\n",
    "indices = np.argsort(importances)[::-1]\n",
    "\n",
    "print(\"Feature Ranking:\")\n",
    "for f in range(8):\n",
    "    print(\"%d. %s (%f)\" % (f + 1, features[f], importances[indices[f]]))\n",
    "\n",
    "plt.figure()\n",
    "plt.title(\"Feature importances\")\n",
    "plt.bar(range(8), importances[indices], color=\"r\", align=\"center\")\n",
    "plt.xticks(range(8), [features[i] for i in indices])\n",
    "plt.xlim([-1, 8])\n",
    "plt.show()"
   ]
  },
  {
   "cell_type": "code",
   "execution_count": 0,
   "metadata": {
    "application/vnd.databricks.v1+cell": {
     "cellMetadata": {
      "byteLimit": 2048000,
      "rowLimit": 10000
     },
     "inputWidgets": {},
     "nuid": "0def3837-ab6d-4842-8d07-85e114f44764",
     "showTitle": false,
     "title": ""
    }
   },
   "outputs": [
    {
     "output_type": "display_data",
     "data": {
      "text/html": [
       "<style scoped>\n",
       "  .ansiout {\n",
       "    display: block;\n",
       "    unicode-bidi: embed;\n",
       "    white-space: pre-wrap;\n",
       "    word-wrap: break-word;\n",
       "    word-break: break-all;\n",
       "    font-family: \"Source Code Pro\", \"Menlo\", monospace;;\n",
       "    font-size: 13px;\n",
       "    color: #555;\n",
       "    margin-left: 4px;\n",
       "    line-height: 19px;\n",
       "  }\n",
       "</style>"
      ]
     },
     "metadata": {
      "application/vnd.databricks.v1+output": {
       "arguments": {},
       "data": "",
       "errorSummary": "Cancelled",
       "errorTraceType": "html",
       "metadata": {},
       "type": "ipynbError"
      }
     },
     "output_type": "display_data"
    }
   ],
   "source": [
    "# ROC\n",
    "\n",
    "print(\"Support vector machines:\")\n",
    "plot_roc(X,y,SVC,probability=True)\n",
    "\n",
    "print(\"Random forests:\")\n",
    "plot_roc(X,y,RF,n_estimators=18)\n",
    "\n",
    "print(\"K-nearest-neighbors:\")\n",
    "plot_roc(X,y,KNN)\n",
    "\n",
    "print(\"Gradient Boosting Classifier:\")\n",
    "plot_roc(X,y,GBC)"
   ]
  },
  {
   "cell_type": "code",
   "execution_count": 0,
   "metadata": {
    "application/vnd.databricks.v1+cell": {
     "cellMetadata": {
      "byteLimit": 2048000,
      "rowLimit": 10000
     },
     "inputWidgets": {},
     "nuid": "39347ab4-5165-46d6-94f7-5556e54fa6d5",
     "showTitle": false,
     "title": ""
    }
   },
   "outputs": [
    {
     "output_type": "display_data",
     "data": {
      "text/html": [
       "<style scoped>\n",
       "  .ansiout {\n",
       "    display: block;\n",
       "    unicode-bidi: embed;\n",
       "    white-space: pre-wrap;\n",
       "    word-wrap: break-word;\n",
       "    word-break: break-all;\n",
       "    font-family: \"Source Code Pro\", \"Menlo\", monospace;;\n",
       "    font-size: 13px;\n",
       "    color: #555;\n",
       "    margin-left: 4px;\n",
       "    line-height: 19px;\n",
       "  }\n",
       "</style>"
      ]
     },
     "metadata": {
      "application/vnd.databricks.v1+output": {
       "arguments": {},
       "data": "",
       "errorSummary": "Cancelled",
       "errorTraceType": "html",
       "metadata": {},
       "type": "ipynbError"
      }
     },
     "output_type": "display_data"
    }
   ],
   "source": [
    "print (\"Logistic Regression:\")\n",
    "print (\"%.3f\" % accuracy(y, run_cv(X,y,LR)))\n",
    "print (\"Gradient Boosting Classifier\")\n",
    "print (\"%.3f\" % accuracy(y, run_cv(X,y,GBC)))\n",
    "print (\"Support vector machines:\")\n",
    "print (\"%.3f\" % accuracy(y, run_cv(X,y,SVC)))\n",
    "print (\"Random forest:\")\n",
    "print (\"%.3f\" % accuracy(y, run_cv(X,y,RF)))\n",
    "print (\"K-nearest-neighbors:\")\n",
    "print (\"%.3f\" % accuracy(y, run_cv(X,y,KNN)))"
   ]
  },
  {
   "cell_type": "code",
   "execution_count": 0,
   "metadata": {
    "application/vnd.databricks.v1+cell": {
     "cellMetadata": {
      "byteLimit": 2048000,
      "rowLimit": 10000
     },
     "inputWidgets": {},
     "nuid": "120e29a2-1cec-47a2-ace0-2878699c4027",
     "showTitle": false,
     "title": ""
    }
   },
   "outputs": [
    {
     "output_type": "display_data",
     "data": {
      "text/html": [
       "<div>\n",
       "<style scoped>\n",
       "    .dataframe tbody tr th:only-of-type {\n",
       "        vertical-align: middle;\n",
       "    }\n",
       "\n",
       "    .dataframe tbody tr th {\n",
       "        vertical-align: top;\n",
       "    }\n",
       "\n",
       "    .dataframe thead th {\n",
       "        text-align: right;\n",
       "    }\n",
       "</style>\n",
       "<table border=\"1\" class=\"dataframe\">\n",
       "  <thead>\n",
       "    <tr style=\"text-align: right;\">\n",
       "      <th></th>\n",
       "      <th>pred_prob</th>\n",
       "      <th>count</th>\n",
       "      <th>true_prob</th>\n",
       "    </tr>\n",
       "  </thead>\n",
       "  <tbody>\n",
       "    <tr>\n",
       "      <th>0</th>\n",
       "      <td>0.258609</td>\n",
       "      <td>4032</td>\n",
       "      <td>0.285218</td>\n",
       "    </tr>\n",
       "    <tr>\n",
       "      <th>1</th>\n",
       "      <td>0.255047</td>\n",
       "      <td>3475</td>\n",
       "      <td>0.295827</td>\n",
       "    </tr>\n",
       "    <tr>\n",
       "      <th>2</th>\n",
       "      <td>0.259228</td>\n",
       "      <td>3361</td>\n",
       "      <td>0.284737</td>\n",
       "    </tr>\n",
       "    <tr>\n",
       "      <th>3</th>\n",
       "      <td>0.235695</td>\n",
       "      <td>1141</td>\n",
       "      <td>0.190184</td>\n",
       "    </tr>\n",
       "    <tr>\n",
       "      <th>4</th>\n",
       "      <td>0.340488</td>\n",
       "      <td>874</td>\n",
       "      <td>0.352403</td>\n",
       "    </tr>\n",
       "    <tr>\n",
       "      <th>5</th>\n",
       "      <td>0.355629</td>\n",
       "      <td>870</td>\n",
       "      <td>0.329885</td>\n",
       "    </tr>\n",
       "    <tr>\n",
       "      <th>6</th>\n",
       "      <td>0.344708</td>\n",
       "      <td>862</td>\n",
       "      <td>0.353828</td>\n",
       "    </tr>\n",
       "    <tr>\n",
       "      <th>7</th>\n",
       "      <td>0.252776</td>\n",
       "      <td>660</td>\n",
       "      <td>0.319697</td>\n",
       "    </tr>\n",
       "    <tr>\n",
       "      <th>8</th>\n",
       "      <td>0.245103</td>\n",
       "      <td>643</td>\n",
       "      <td>0.300156</td>\n",
       "    </tr>\n",
       "    <tr>\n",
       "      <th>9</th>\n",
       "      <td>0.238155</td>\n",
       "      <td>642</td>\n",
       "      <td>0.207165</td>\n",
       "    </tr>\n",
       "    <tr>\n",
       "      <th>10</th>\n",
       "      <td>0.247589</td>\n",
       "      <td>623</td>\n",
       "      <td>0.203852</td>\n",
       "    </tr>\n",
       "    <tr>\n",
       "      <th>11</th>\n",
       "      <td>0.251107</td>\n",
       "      <td>618</td>\n",
       "      <td>0.257282</td>\n",
       "    </tr>\n",
       "    <tr>\n",
       "      <th>12</th>\n",
       "      <td>0.081897</td>\n",
       "      <td>564</td>\n",
       "      <td>0.000000</td>\n",
       "    </tr>\n",
       "    <tr>\n",
       "      <th>13</th>\n",
       "      <td>0.129002</td>\n",
       "      <td>543</td>\n",
       "      <td>0.055249</td>\n",
       "    </tr>\n",
       "    <tr>\n",
       "      <th>14</th>\n",
       "      <td>0.083004</td>\n",
       "      <td>512</td>\n",
       "      <td>0.000000</td>\n",
       "    </tr>\n",
       "    <tr>\n",
       "      <th>15</th>\n",
       "      <td>0.239715</td>\n",
       "      <td>506</td>\n",
       "      <td>0.185771</td>\n",
       "    </tr>\n",
       "    <tr>\n",
       "      <th>16</th>\n",
       "      <td>0.081881</td>\n",
       "      <td>501</td>\n",
       "      <td>0.000000</td>\n",
       "    </tr>\n",
       "    <tr>\n",
       "      <th>17</th>\n",
       "      <td>0.206820</td>\n",
       "      <td>436</td>\n",
       "      <td>0.137615</td>\n",
       "    </tr>\n",
       "    <tr>\n",
       "      <th>18</th>\n",
       "      <td>0.232513</td>\n",
       "      <td>428</td>\n",
       "      <td>0.210280</td>\n",
       "    </tr>\n",
       "    <tr>\n",
       "      <th>19</th>\n",
       "      <td>0.165889</td>\n",
       "      <td>393</td>\n",
       "      <td>0.132316</td>\n",
       "    </tr>\n",
       "    <tr>\n",
       "      <th>20</th>\n",
       "      <td>0.160792</td>\n",
       "      <td>384</td>\n",
       "      <td>0.184896</td>\n",
       "    </tr>\n",
       "    <tr>\n",
       "      <th>21</th>\n",
       "      <td>0.244694</td>\n",
       "      <td>343</td>\n",
       "      <td>0.271137</td>\n",
       "    </tr>\n",
       "    <tr>\n",
       "      <th>22</th>\n",
       "      <td>0.257318</td>\n",
       "      <td>341</td>\n",
       "      <td>0.313783</td>\n",
       "    </tr>\n",
       "    <tr>\n",
       "      <th>23</th>\n",
       "      <td>0.257560</td>\n",
       "      <td>338</td>\n",
       "      <td>0.301775</td>\n",
       "    </tr>\n",
       "    <tr>\n",
       "      <th>24</th>\n",
       "      <td>0.240473</td>\n",
       "      <td>337</td>\n",
       "      <td>0.222552</td>\n",
       "    </tr>\n",
       "    <tr>\n",
       "      <th>25</th>\n",
       "      <td>0.231804</td>\n",
       "      <td>334</td>\n",
       "      <td>0.263473</td>\n",
       "    </tr>\n",
       "    <tr>\n",
       "      <th>26</th>\n",
       "      <td>0.179831</td>\n",
       "      <td>324</td>\n",
       "      <td>0.206790</td>\n",
       "    </tr>\n",
       "    <tr>\n",
       "      <th>27</th>\n",
       "      <td>0.245619</td>\n",
       "      <td>320</td>\n",
       "      <td>0.268750</td>\n",
       "    </tr>\n",
       "    <tr>\n",
       "      <th>28</th>\n",
       "      <td>0.249136</td>\n",
       "      <td>318</td>\n",
       "      <td>0.301887</td>\n",
       "    </tr>\n",
       "    <tr>\n",
       "      <th>29</th>\n",
       "      <td>0.236748</td>\n",
       "      <td>316</td>\n",
       "      <td>0.246835</td>\n",
       "    </tr>\n",
       "    <tr>\n",
       "      <th>30</th>\n",
       "      <td>0.119895</td>\n",
       "      <td>305</td>\n",
       "      <td>0.022951</td>\n",
       "    </tr>\n",
       "    <tr>\n",
       "      <th>31</th>\n",
       "      <td>0.155553</td>\n",
       "      <td>301</td>\n",
       "      <td>0.073090</td>\n",
       "    </tr>\n",
       "    <tr>\n",
       "      <th>32</th>\n",
       "      <td>0.243156</td>\n",
       "      <td>293</td>\n",
       "      <td>0.238908</td>\n",
       "    </tr>\n",
       "    <tr>\n",
       "      <th>33</th>\n",
       "      <td>0.213693</td>\n",
       "      <td>292</td>\n",
       "      <td>0.133562</td>\n",
       "    </tr>\n",
       "    <tr>\n",
       "      <th>34</th>\n",
       "      <td>0.229263</td>\n",
       "      <td>291</td>\n",
       "      <td>0.247423</td>\n",
       "    </tr>\n",
       "    <tr>\n",
       "      <th>35</th>\n",
       "      <td>0.173519</td>\n",
       "      <td>269</td>\n",
       "      <td>0.122677</td>\n",
       "    </tr>\n",
       "    <tr>\n",
       "      <th>36</th>\n",
       "      <td>0.126196</td>\n",
       "      <td>264</td>\n",
       "      <td>0.056818</td>\n",
       "    </tr>\n",
       "    <tr>\n",
       "      <th>37</th>\n",
       "      <td>0.253623</td>\n",
       "      <td>260</td>\n",
       "      <td>0.307692</td>\n",
       "    </tr>\n",
       "    <tr>\n",
       "      <th>38</th>\n",
       "      <td>0.181721</td>\n",
       "      <td>250</td>\n",
       "      <td>0.184000</td>\n",
       "    </tr>\n",
       "    <tr>\n",
       "      <th>39</th>\n",
       "      <td>0.150234</td>\n",
       "      <td>246</td>\n",
       "      <td>0.097561</td>\n",
       "    </tr>\n",
       "    <tr>\n",
       "      <th>40</th>\n",
       "      <td>0.415888</td>\n",
       "      <td>238</td>\n",
       "      <td>0.928571</td>\n",
       "    </tr>\n",
       "    <tr>\n",
       "      <th>41</th>\n",
       "      <td>0.204486</td>\n",
       "      <td>233</td>\n",
       "      <td>0.201717</td>\n",
       "    </tr>\n",
       "    <tr>\n",
       "      <th>42</th>\n",
       "      <td>0.196261</td>\n",
       "      <td>231</td>\n",
       "      <td>0.225108</td>\n",
       "    </tr>\n",
       "    <tr>\n",
       "      <th>43</th>\n",
       "      <td>0.113856</td>\n",
       "      <td>231</td>\n",
       "      <td>0.030303</td>\n",
       "    </tr>\n",
       "    <tr>\n",
       "      <th>44</th>\n",
       "      <td>0.205691</td>\n",
       "      <td>229</td>\n",
       "      <td>0.161572</td>\n",
       "    </tr>\n",
       "    <tr>\n",
       "      <th>45</th>\n",
       "      <td>0.249475</td>\n",
       "      <td>220</td>\n",
       "      <td>0.327273</td>\n",
       "    </tr>\n",
       "    <tr>\n",
       "      <th>46</th>\n",
       "      <td>0.251371</td>\n",
       "      <td>219</td>\n",
       "      <td>0.360731</td>\n",
       "    </tr>\n",
       "    <tr>\n",
       "      <th>47</th>\n",
       "      <td>0.119571</td>\n",
       "      <td>218</td>\n",
       "      <td>0.022936</td>\n",
       "    </tr>\n",
       "    <tr>\n",
       "      <th>48</th>\n",
       "      <td>0.478688</td>\n",
       "      <td>213</td>\n",
       "      <td>0.929577</td>\n",
       "    </tr>\n",
       "    <tr>\n",
       "      <th>49</th>\n",
       "      <td>0.116923</td>\n",
       "      <td>213</td>\n",
       "      <td>0.014085</td>\n",
       "    </tr>\n",
       "  </tbody>\n",
       "</table>\n",
       "</div>"
      ]
     },
     "metadata": {
      "application/vnd.databricks.v1+output": {
       "addedWidgets": {},
       "arguments": {},
       "data": "<div>\n<style scoped>\n    .dataframe tbody tr th:only-of-type {\n        vertical-align: middle;\n    }\n\n    .dataframe tbody tr th {\n        vertical-align: top;\n    }\n\n    .dataframe thead th {\n        text-align: right;\n    }\n</style>\n<table border=\"1\" class=\"dataframe\">\n  <thead>\n    <tr style=\"text-align: right;\">\n      <th></th>\n      <th>pred_prob</th>\n      <th>count</th>\n      <th>true_prob</th>\n    </tr>\n  </thead>\n  <tbody>\n    <tr>\n      <th>0</th>\n      <td>0.258609</td>\n      <td>4032</td>\n      <td>0.285218</td>\n    </tr>\n    <tr>\n      <th>1</th>\n      <td>0.255047</td>\n      <td>3475</td>\n      <td>0.295827</td>\n    </tr>\n    <tr>\n      <th>2</th>\n      <td>0.259228</td>\n      <td>3361</td>\n      <td>0.284737</td>\n    </tr>\n    <tr>\n      <th>3</th>\n      <td>0.235695</td>\n      <td>1141</td>\n      <td>0.190184</td>\n    </tr>\n    <tr>\n      <th>4</th>\n      <td>0.340488</td>\n      <td>874</td>\n      <td>0.352403</td>\n    </tr>\n    <tr>\n      <th>5</th>\n      <td>0.355629</td>\n      <td>870</td>\n      <td>0.329885</td>\n    </tr>\n    <tr>\n      <th>6</th>\n      <td>0.344708</td>\n      <td>862</td>\n      <td>0.353828</td>\n    </tr>\n    <tr>\n      <th>7</th>\n      <td>0.252776</td>\n      <td>660</td>\n      <td>0.319697</td>\n    </tr>\n    <tr>\n      <th>8</th>\n      <td>0.245103</td>\n      <td>643</td>\n      <td>0.300156</td>\n    </tr>\n    <tr>\n      <th>9</th>\n      <td>0.238155</td>\n      <td>642</td>\n      <td>0.207165</td>\n    </tr>\n    <tr>\n      <th>10</th>\n      <td>0.247589</td>\n      <td>623</td>\n      <td>0.203852</td>\n    </tr>\n    <tr>\n      <th>11</th>\n      <td>0.251107</td>\n      <td>618</td>\n      <td>0.257282</td>\n    </tr>\n    <tr>\n      <th>12</th>\n      <td>0.081897</td>\n      <td>564</td>\n      <td>0.000000</td>\n    </tr>\n    <tr>\n      <th>13</th>\n      <td>0.129002</td>\n      <td>543</td>\n      <td>0.055249</td>\n    </tr>\n    <tr>\n      <th>14</th>\n      <td>0.083004</td>\n      <td>512</td>\n      <td>0.000000</td>\n    </tr>\n    <tr>\n      <th>15</th>\n      <td>0.239715</td>\n      <td>506</td>\n      <td>0.185771</td>\n    </tr>\n    <tr>\n      <th>16</th>\n      <td>0.081881</td>\n      <td>501</td>\n      <td>0.000000</td>\n    </tr>\n    <tr>\n      <th>17</th>\n      <td>0.206820</td>\n      <td>436</td>\n      <td>0.137615</td>\n    </tr>\n    <tr>\n      <th>18</th>\n      <td>0.232513</td>\n      <td>428</td>\n      <td>0.210280</td>\n    </tr>\n    <tr>\n      <th>19</th>\n      <td>0.165889</td>\n      <td>393</td>\n      <td>0.132316</td>\n    </tr>\n    <tr>\n      <th>20</th>\n      <td>0.160792</td>\n      <td>384</td>\n      <td>0.184896</td>\n    </tr>\n    <tr>\n      <th>21</th>\n      <td>0.244694</td>\n      <td>343</td>\n      <td>0.271137</td>\n    </tr>\n    <tr>\n      <th>22</th>\n      <td>0.257318</td>\n      <td>341</td>\n      <td>0.313783</td>\n    </tr>\n    <tr>\n      <th>23</th>\n      <td>0.257560</td>\n      <td>338</td>\n      <td>0.301775</td>\n    </tr>\n    <tr>\n      <th>24</th>\n      <td>0.240473</td>\n      <td>337</td>\n      <td>0.222552</td>\n    </tr>\n    <tr>\n      <th>25</th>\n      <td>0.231804</td>\n      <td>334</td>\n      <td>0.263473</td>\n    </tr>\n    <tr>\n      <th>26</th>\n      <td>0.179831</td>\n      <td>324</td>\n      <td>0.206790</td>\n    </tr>\n    <tr>\n      <th>27</th>\n      <td>0.245619</td>\n      <td>320</td>\n      <td>0.268750</td>\n    </tr>\n    <tr>\n      <th>28</th>\n      <td>0.249136</td>\n      <td>318</td>\n      <td>0.301887</td>\n    </tr>\n    <tr>\n      <th>29</th>\n      <td>0.236748</td>\n      <td>316</td>\n      <td>0.246835</td>\n    </tr>\n    <tr>\n      <th>30</th>\n      <td>0.119895</td>\n      <td>305</td>\n      <td>0.022951</td>\n    </tr>\n    <tr>\n      <th>31</th>\n      <td>0.155553</td>\n      <td>301</td>\n      <td>0.073090</td>\n    </tr>\n    <tr>\n      <th>32</th>\n      <td>0.243156</td>\n      <td>293</td>\n      <td>0.238908</td>\n    </tr>\n    <tr>\n      <th>33</th>\n      <td>0.213693</td>\n      <td>292</td>\n      <td>0.133562</td>\n    </tr>\n    <tr>\n      <th>34</th>\n      <td>0.229263</td>\n      <td>291</td>\n      <td>0.247423</td>\n    </tr>\n    <tr>\n      <th>35</th>\n      <td>0.173519</td>\n      <td>269</td>\n      <td>0.122677</td>\n    </tr>\n    <tr>\n      <th>36</th>\n      <td>0.126196</td>\n      <td>264</td>\n      <td>0.056818</td>\n    </tr>\n    <tr>\n      <th>37</th>\n      <td>0.253623</td>\n      <td>260</td>\n      <td>0.307692</td>\n    </tr>\n    <tr>\n      <th>38</th>\n      <td>0.181721</td>\n      <td>250</td>\n      <td>0.184000</td>\n    </tr>\n    <tr>\n      <th>39</th>\n      <td>0.150234</td>\n      <td>246</td>\n      <td>0.097561</td>\n    </tr>\n    <tr>\n      <th>40</th>\n      <td>0.415888</td>\n      <td>238</td>\n      <td>0.928571</td>\n    </tr>\n    <tr>\n      <th>41</th>\n      <td>0.204486</td>\n      <td>233</td>\n      <td>0.201717</td>\n    </tr>\n    <tr>\n      <th>42</th>\n      <td>0.196261</td>\n      <td>231</td>\n      <td>0.225108</td>\n    </tr>\n    <tr>\n      <th>43</th>\n      <td>0.113856</td>\n      <td>231</td>\n      <td>0.030303</td>\n    </tr>\n    <tr>\n      <th>44</th>\n      <td>0.205691</td>\n      <td>229</td>\n      <td>0.161572</td>\n    </tr>\n    <tr>\n      <th>45</th>\n      <td>0.249475</td>\n      <td>220</td>\n      <td>0.327273</td>\n    </tr>\n    <tr>\n      <th>46</th>\n      <td>0.251371</td>\n      <td>219</td>\n      <td>0.360731</td>\n    </tr>\n    <tr>\n      <th>47</th>\n      <td>0.119571</td>\n      <td>218</td>\n      <td>0.022936</td>\n    </tr>\n    <tr>\n      <th>48</th>\n      <td>0.478688</td>\n      <td>213</td>\n      <td>0.929577</td>\n    </tr>\n    <tr>\n      <th>49</th>\n      <td>0.116923</td>\n      <td>213</td>\n      <td>0.014085</td>\n    </tr>\n  </tbody>\n</table>\n</div>",
       "datasetInfos": [],
       "metadata": {},
       "removedWidgets": [],
       "textData": null,
       "type": "htmlSandbox"
      }
     },
     "output_type": "display_data"
    }
   ],
   "source": [
    "\n",
    "pred_prob= run_prob_cv(X,y,GBC,n_estimators=10)\n",
    "pred_churn=pred_prob[:,1]\n",
    "is_churn = y == '1'\n",
    "\n",
    "counts=pd.value_counts(pred_churn)\n",
    "counts[:]\n",
    "\n",
    "from collections import defaultdict\n",
    "true_prob = defaultdict(float)\n",
    "\n",
    "for prob in counts.index:\n",
    "    true_prob[prob] = np.mean(is_churn[pred_churn == prob])\n",
    "true_prob = pd.Series(true_prob)\n",
    "\n",
    "counts = pd.concat([counts, true_prob], axis=1).reset_index()\n",
    "counts.columns = ['pred_prob','count','true_prob']\n",
    "counts.head(50)\n"
   ]
  }
 ],
 "metadata": {
  "application/vnd.databricks.v1+notebook": {
   "dashboards": [],
   "language": "python",
   "notebookMetadata": {
    "pythonIndentUnit": 4
   },
   "notebookName": "model_tuning",
   "widgets": {}
  }
 },
 "nbformat": 4,
 "nbformat_minor": 0
}
